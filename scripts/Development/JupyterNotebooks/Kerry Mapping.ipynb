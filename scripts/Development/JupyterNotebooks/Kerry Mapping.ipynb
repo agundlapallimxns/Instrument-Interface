{
 "cells": [
  {
   "cell_type": "code",
   "execution_count": 1,
   "metadata": {},
   "outputs": [],
   "source": [
    "import pandas as pd"
   ]
  },
  {
   "cell_type": "code",
   "execution_count": 4,
   "metadata": {},
   "outputs": [],
   "source": [
    "df1 = pd.read_csv('./SampleFiles_Instruments/Kerry/Group-MIC-Test.csv')\n",
    "df2 = pd.read_csv('./SampleFiles_Instruments/Kerry/Group_SAP.csv')"
   ]
  },
  {
   "cell_type": "code",
   "execution_count": 6,
   "metadata": {},
   "outputs": [],
   "source": [
    "df3 = pd.merge(df1, df2)"
   ]
  },
  {
   "cell_type": "code",
   "execution_count": 8,
   "metadata": {},
   "outputs": [
    {
     "data": {
      "text/html": [
       "<div>\n",
       "<style scoped>\n",
       "    .dataframe tbody tr th:only-of-type {\n",
       "        vertical-align: middle;\n",
       "    }\n",
       "\n",
       "    .dataframe tbody tr th {\n",
       "        vertical-align: top;\n",
       "    }\n",
       "\n",
       "    .dataframe thead th {\n",
       "        text-align: right;\n",
       "    }\n",
       "</style>\n",
       "<table border=\"1\" class=\"dataframe\">\n",
       "  <thead>\n",
       "    <tr style=\"text-align: right;\">\n",
       "      <th></th>\n",
       "      <th>Group</th>\n",
       "      <th>SAP Test</th>\n",
       "      <th>Test Description</th>\n",
       "      <th>UOM</th>\n",
       "      <th>SAP Material</th>\n",
       "    </tr>\n",
       "  </thead>\n",
       "  <tbody>\n",
       "    <tr>\n",
       "      <th>0</th>\n",
       "      <td>P520_AE</td>\n",
       "      <td>SPC</td>\n",
       "      <td>Aerobic plate count</td>\n",
       "      <td>CFU/g</td>\n",
       "      <td>20588554.0</td>\n",
       "    </tr>\n",
       "    <tr>\n",
       "      <th>1</th>\n",
       "      <td>P520_AE</td>\n",
       "      <td>SPC</td>\n",
       "      <td>Aerobic plate count</td>\n",
       "      <td>CFU/g</td>\n",
       "      <td>20588744.0</td>\n",
       "    </tr>\n",
       "    <tr>\n",
       "      <th>2</th>\n",
       "      <td>P520_AEN</td>\n",
       "      <td>SPC</td>\n",
       "      <td>Aerobic plate count</td>\n",
       "      <td>CFU/g</td>\n",
       "      <td>20588629.0</td>\n",
       "    </tr>\n",
       "    <tr>\n",
       "      <th>3</th>\n",
       "      <td>P520_COL</td>\n",
       "      <td>ECOLIN</td>\n",
       "      <td>E-Coli</td>\n",
       "      <td>CFU/g</td>\n",
       "      <td>20588655.0</td>\n",
       "    </tr>\n",
       "    <tr>\n",
       "      <th>4</th>\n",
       "      <td>P520_COL</td>\n",
       "      <td>COLIFORM</td>\n",
       "      <td>Coliform</td>\n",
       "      <td>CFU/g</td>\n",
       "      <td>20588655.0</td>\n",
       "    </tr>\n",
       "  </tbody>\n",
       "</table>\n",
       "</div>"
      ],
      "text/plain": [
       "      Group SAP Test      Test Description    UOM  SAP Material \n",
       "0   P520_AE       SPC  Aerobic plate count  CFU/g     20588554.0\n",
       "1   P520_AE       SPC  Aerobic plate count  CFU/g     20588744.0\n",
       "2  P520_AEN       SPC  Aerobic plate count  CFU/g     20588629.0\n",
       "3  P520_COL    ECOLIN               E-Coli  CFU/g     20588655.0\n",
       "4  P520_COL  COLIFORM             Coliform  CFU/g     20588655.0"
      ]
     },
     "execution_count": 8,
     "metadata": {},
     "output_type": "execute_result"
    }
   ],
   "source": [
    "df3.head()"
   ]
  },
  {
   "cell_type": "code",
   "execution_count": 9,
   "metadata": {},
   "outputs": [],
   "source": [
    "df3.to_csv('./SampleFiles_Instruments/Kerry/result.csv',index=False)"
   ]
  }
 ],
 "metadata": {
  "kernelspec": {
   "display_name": "Python 3",
   "language": "python",
   "name": "python3"
  },
  "language_info": {
   "codemirror_mode": {
    "name": "ipython",
    "version": 3
   },
   "file_extension": ".py",
   "mimetype": "text/x-python",
   "name": "python",
   "nbconvert_exporter": "python",
   "pygments_lexer": "ipython3",
   "version": "3.6.6"
  }
 },
 "nbformat": 4,
 "nbformat_minor": 2
}
