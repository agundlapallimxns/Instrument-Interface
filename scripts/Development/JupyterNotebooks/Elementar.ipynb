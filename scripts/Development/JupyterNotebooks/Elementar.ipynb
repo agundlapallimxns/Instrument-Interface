{
 "cells": [
  {
   "cell_type": "code",
   "execution_count": 172,
   "metadata": {},
   "outputs": [],
   "source": [
    "# Import Functions\n",
    "import pandas as pd\n",
    "import os\n",
    "import time\n",
    "import csv\n",
    "import json\n",
    "import fnmatch\n",
    "import csv\n",
    "import sqlalchemy as sql\n",
    "import numpy as np\n",
    "test1=None\n",
    "dbHost='mxnunx41'\n",
    "dbPort='1521'\n",
    "dbUser='lims'\n",
    "dbPassword='Mumwit63'\n",
    "dbName='hwi1'\n",
    "dburl='oracle://'"
   ]
  },
  {
   "cell_type": "code",
   "execution_count": 173,
   "metadata": {},
   "outputs": [],
   "source": [
    "# Default Parameters setting\n",
    "with open('.\\configFiles\\ElementarConfig.json', 'r') as f:\n",
    "    config = json.load(f)\n",
    "lab = config['lab']\n",
    "analysis = config['analysis']\n",
    "inst = config['inst']\n",
    "colsOrder=['Sample.Sample_Number', 'Test.Test_Number','Result.Name', 'Result.Entry', 'Result.Entered_By']"
   ]
  },
  {
   "cell_type": "code",
   "execution_count": 174,
   "metadata": {},
   "outputs": [],
   "source": [
    "#write the file\n",
    "def writeFile(dframe,lab,inst,archDestination,importDest,datapath,fname):\n",
    "    timestr = time.strftime(\"%Y%m%d%H%M%S\")\n",
    "    FileName = importDest + lab+'_'+inst+'_' + timestr + '.csv'\n",
    "    dframe.to_csv(FileName, index=False, encoding=\"utf-8\",quotechar='\"',quoting=csv.QUOTE_NONNUMERIC) # write  out the file to be imported\n",
    "    destination = archDestination + fname[:-4] + '.bak' # Backup the processed file\n",
    "    os.rename(datapath, destination)\n",
    "    time.sleep(1)"
   ]
  },
  {
   "cell_type": "code",
   "execution_count": 175,
   "metadata": {},
   "outputs": [],
   "source": [
    "# get Data from DB\n",
    "def getDataFromDB(sampleNumbersList):\n",
    "    dburl = 'oracle://'+dbUser+':'+dbPassword+'@'+dbHost+':'+dbPort+'/'+dbName\n",
    "    engine=sql.create_engine(dburl)\n",
    "    resultdf=pd.DataFrame()\n",
    "    sampleNumbrStr=(', '.join(\"'\" + str(item) + \"'\" for item in sampleNumbersList))\n",
    "    queryText=\"SELECT sample_number, analysis, REPLICATE_COUNT,TEST_NUMBER FROM test\"\n",
    "    queryText=queryText+\" WHERE SAMPLE_NUMBER IN (\"+sampleNumbrStr+\") AND analysis IN ('FBR-SR-3A', 'FBR-SR-3C', 'FBR-SR-3E','CODEX-IST', 'CODEX-T')\"\n",
    "    conn = engine.connect()\n",
    "    resultdf = pd.read_sql(queryText, engine)\n",
    "    conn.close()\n",
    "    return resultdf"
   ]
  },
  {
   "cell_type": "code",
   "execution_count": 176,
   "metadata": {},
   "outputs": [],
   "source": [
    "def extractsuffix(sampleNumstring):\n",
    "    global test1\n",
    "    if len(sampleNumstring)>18.0:\n",
    "        if '/' in sampleNumstring:\n",
    "            t=sampleNumstring.index(\"/\")+1\n",
    "            test1=sampleNumstring[t:]\n",
    "            return test1\n",
    "        elif '-' in sampleNumstring:\n",
    "            t=sampleNumstring.index(\"-\")\n",
    "            analysis=sampleNumstring[:t]\n",
    "            if(analysis=='CODEX'):\n",
    "                test1='CODEX'\n",
    "                return test1\n",
    "            elif (analysis=='FBR'):\n",
    "                test1='FBR'\n",
    "                return test1\n",
    "    elif len(sampleNumstring)<=9:\n",
    "        return test1\n",
    "    elif len(sampleNumstring)==11:\n",
    "        return test1\n",
    "    return None"
   ]
  },
  {
   "cell_type": "code",
   "execution_count": 177,
   "metadata": {},
   "outputs": [],
   "source": [
    "def dbAnalysisSuffix(analysis):\n",
    "    return (analysis[:analysis.index(\"-\")])"
   ]
  },
  {
   "cell_type": "code",
   "execution_count": 178,
   "metadata": {},
   "outputs": [],
   "source": [
    "def analysisdef(test):\n",
    "    analysis = {'IDF': 'CODEX-IST', 'SDF':'CODEX-IST','CODEX':'CODEX-T','FBR':'FBR-SR-3C'}\n",
    "    return analysis.get(test)"
   ]
  },
  {
   "cell_type": "code",
   "execution_count": 179,
   "metadata": {},
   "outputs": [],
   "source": [
    "def resultType(resultype):\n",
    "    resultName = {'IDF': 'IDF % Protein', 'SDF':'SDF % Protein','CODEX':'TDF % Protein','FBR':'% Protein (xtest)'}\n",
    "    return resultName.get(resultype)"
   ]
  },
  {
   "cell_type": "code",
   "execution_count": 180,
   "metadata": {},
   "outputs": [],
   "source": [
    "def updateSuffix(sufx):\n",
    "    if sufx in ('IDF','SDF'):\n",
    "        return 'CODEX'\n",
    "    else:\n",
    "        return sufx"
   ]
  },
  {
   "cell_type": "code",
   "execution_count": 181,
   "metadata": {},
   "outputs": [],
   "source": [
    "def getreplicate(sampleNumstring):\n",
    "    if len(sampleNumstring)==11:\n",
    "        if '/' in sampleNumstring:\n",
    "            t=sampleNumstring.index(\"/\")+1\n",
    "            rep=sampleNumstring[t:]\n",
    "            return rep\n",
    "    return 1"
   ]
  },
  {
   "cell_type": "code",
   "execution_count": 182,
   "metadata": {},
   "outputs": [],
   "source": [
    "def formatSampleNumber(sampleNumstring):\n",
    "    return sampleNumstring[:9]"
   ]
  },
  {
   "cell_type": "code",
   "execution_count": 183,
   "metadata": {},
   "outputs": [
    {
     "name": "stdout",
     "output_type": "stream",
     "text": [
      "Lab:Crete\n",
      "4-23 fbr 422-3_20190424181107.csv\n",
      "codex 423-1 IST and T._20190425235527.csv\n",
      "idf424 fbr 424-1 fbr 425-2_20190426151906.csv\n"
     ]
    }
   ],
   "source": [
    "for eachlab in lab:\n",
    "    path='//mxns.loc//shares//NA-Instruments//Prod//'+eachlab+'//Import//'+inst+'//'\n",
    "    archivedDestination='//mxns.loc//shares//NA-Instruments//Prod//'+eachlab+'//Import//'+inst+'//'\n",
    "    #importDest='//mxns.loc//shares//NA-Instruments//Prod//'+eachlab+'//impf//'\n",
    "    if (mode == 'T'):\n",
    "        importDest = '//mxns.loc//shares//NA-Instruments//Prod//' + eachlab + '//testing//'\n",
    "    else:\n",
    "        importDest = '//mxns.loc//shares//NA-Instruments//Prod//' + eachlab + '//impf//'\n",
    "    if os.path.exists(path):\n",
    "        pass\n",
    "    else:\n",
    "        os.makedirs(path)\n",
    "    if os.path.exists(importDest):\n",
    "        pass\n",
    "    else:\n",
    "        os.makedirs(importDest)\n",
    "    files = os.listdir(path)\n",
    "    for filename in files:\n",
    "        if fnmatch.fnmatch(filename,'*.CSV'):"
   ]
  },
  {
   "cell_type": "code",
   "execution_count": 184,
   "metadata": {},
   "outputs": [],
   "source": [
    "#filename='4-23 fbr 422-3_20190424181107.csv'\n",
    "datapath = path + str(filename)\n",
    "rawdf = pd.read_csv(datapath,skiprows=1)"
   ]
  },
  {
   "cell_type": "code",
   "execution_count": 185,
   "metadata": {},
   "outputs": [],
   "source": [
    "rawdf1=rawdf[['Name  ','Protein  [%]']]"
   ]
  },
  {
   "cell_type": "code",
   "execution_count": 186,
   "metadata": {},
   "outputs": [],
   "source": [
    "rawdf12 = rawdf1.rename(index=str, columns={'Name  ': 'sample', 'Protein  [%]': 'Result'})"
   ]
  },
  {
   "cell_type": "code",
   "execution_count": 188,
   "metadata": {},
   "outputs": [
    {
     "name": "stderr",
     "output_type": "stream",
     "text": [
      "c:\\users\\agundlapalli\\appdata\\local\\programs\\python\\python36\\lib\\site-packages\\ipykernel_launcher.py:2: SettingWithCopyWarning: \n",
      "A value is trying to be set on a copy of a slice from a DataFrame.\n",
      "Try using .loc[row_indexer,col_indexer] = value instead\n",
      "\n",
      "See the caveats in the documentation: http://pandas.pydata.org/pandas-docs/stable/indexing.html#indexing-view-versus-copy\n",
      "  \n"
     ]
    }
   ],
   "source": [
    "rawdf12=rawdf12.dropna()\n",
    "rawdf12['suffix'] = rawdf12['sample'].apply(extractsuffix)"
   ]
  },
  {
   "cell_type": "code",
   "execution_count": 190,
   "metadata": {},
   "outputs": [],
   "source": [
    "df_filtered = rawdf12[rawdf12['sample']!='orch lvs\t']\n",
    "df_filtered.fillna(value=pd.np.nan, inplace=True)\n",
    "df_filtered=df_filtered.dropna()\n",
    "df_filtered = df_filtered[df_filtered['sample']!='orch lvs'] "
   ]
  },
  {
   "cell_type": "code",
   "execution_count": 192,
   "metadata": {},
   "outputs": [],
   "source": [
    "#define the Analysis\n",
    "#df_filtered['analysis']=df_filtered['suffix'].apply(analysisdef)\n",
    "df_filtered['resultname']=df_filtered['suffix'].apply(resultType)"
   ]
  },
  {
   "cell_type": "code",
   "execution_count": 194,
   "metadata": {},
   "outputs": [],
   "source": [
    "df_filtered['replicate_count']=df_filtered['sample'].apply(getreplicate)"
   ]
  },
  {
   "cell_type": "code",
   "execution_count": 195,
   "metadata": {},
   "outputs": [],
   "source": [
    "dfResult=df_filtered[df_filtered['sample'].map(len) <=11]\n",
    "dfResult=dfResult[dfResult['sample'].map(len) ==9]"
   ]
  },
  {
   "cell_type": "code",
   "execution_count": 196,
   "metadata": {},
   "outputs": [],
   "source": [
    "dfResult['sample_number']=dfResult['sample'].apply(formatSampleNumber)\n",
    "dfResult.drop('sample', axis=1, inplace=True)"
   ]
  },
  {
   "cell_type": "code",
   "execution_count": 198,
   "metadata": {},
   "outputs": [],
   "source": [
    "dfResult=dfResult.astype({\"sample_number\": int})\n",
    "dfResult = dfResult.astype({\"replicate_count\": int})\n",
    "sampleNumbersList=list(dfResult['sample_number'].unique())"
   ]
  },
  {
   "cell_type": "code",
   "execution_count": 200,
   "metadata": {},
   "outputs": [],
   "source": [
    "databasedf=getDataFromDB(sampleNumbersList)"
   ]
  },
  {
   "cell_type": "code",
   "execution_count": 201,
   "metadata": {},
   "outputs": [],
   "source": [
    "databasedf=databasedf.sort_values(by=['sample_number'])"
   ]
  },
  {
   "cell_type": "code",
   "execution_count": 202,
   "metadata": {},
   "outputs": [],
   "source": [
    "databasedf['suffix'] = databasedf['analysis'].apply(dbAnalysisSuffix)"
   ]
  },
  {
   "cell_type": "code",
   "execution_count": 203,
   "metadata": {},
   "outputs": [
    {
     "data": {
      "text/plain": [
       "Result             float64\n",
       "suffix              object\n",
       "resultname          object\n",
       "replicate_count      int64\n",
       "sample_number        int32\n",
       "dtype: object"
      ]
     },
     "execution_count": 203,
     "metadata": {},
     "output_type": "execute_result"
    }
   ],
   "source": [
    "dfResult.dtypes"
   ]
  },
  {
   "cell_type": "code",
   "execution_count": 204,
   "metadata": {},
   "outputs": [],
   "source": [
    "dfResult['suffix'] = dfResult['suffix'].apply(updateSuffix)"
   ]
  },
  {
   "cell_type": "code",
   "execution_count": 206,
   "metadata": {},
   "outputs": [],
   "source": [
    "merged_df = dfResult.merge(databasedf, how = 'inner', on = ['sample_number', 'suffix','replicate_count'])"
   ]
  },
  {
   "cell_type": "code",
   "execution_count": 208,
   "metadata": {},
   "outputs": [],
   "source": [
    "merged_df['Result.Entered_By'] = 'IMPORTER'\n",
    "dfResult = merged_df.rename(index=str, \n",
    "                           columns={'sample_number': 'Sample.Sample_Number', 'resultname': 'Result.Name','Result': 'Result.Entry','test_number':'Test.Test_Number'})"
   ]
  },
  {
   "cell_type": "code",
   "execution_count": 209,
   "metadata": {},
   "outputs": [],
   "source": [
    "dfResult=dfResult[colsOrder]"
   ]
  },
  {
   "cell_type": "code",
   "execution_count": 210,
   "metadata": {},
   "outputs": [],
   "source": [
    "dfResult.head()\n",
    "dfResult=dfResult.round(3)"
   ]
  },
  {
   "cell_type": "code",
   "execution_count": 29,
   "metadata": {},
   "outputs": [],
   "source": [
    "#writeFile(dfResult,eachlab,inst,path,importDest,datapath,filename)"
   ]
  },
  {
   "cell_type": "code",
   "execution_count": 30,
   "metadata": {},
   "outputs": [
    {
     "data": {
      "text/plain": [
       "'//mxns.loc//shares//NA-Instruments//Prod//Crete//Import//Elementar//'"
      ]
     },
     "execution_count": 30,
     "metadata": {},
     "output_type": "execute_result"
    }
   ],
   "source": [
    "path"
   ]
  },
  {
   "cell_type": "code",
   "execution_count": null,
   "metadata": {},
   "outputs": [],
   "source": []
  }
 ],
 "metadata": {
  "kernelspec": {
   "display_name": "Python 3",
   "language": "python",
   "name": "python3"
  },
  "language_info": {
   "codemirror_mode": {
    "name": "ipython",
    "version": 3
   },
   "file_extension": ".py",
   "mimetype": "text/x-python",
   "name": "python",
   "nbconvert_exporter": "python",
   "pygments_lexer": "ipython3",
   "version": "3.6.6"
  }
 },
 "nbformat": 4,
 "nbformat_minor": 2
}
