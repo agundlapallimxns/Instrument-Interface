{
 "cells": [
  {
   "cell_type": "code",
   "execution_count": 47,
   "metadata": {},
   "outputs": [],
   "source": [
    "import pandas as pd\n",
    "import os\n",
    "import chardet"
   ]
  },
  {
   "cell_type": "code",
   "execution_count": 48,
   "metadata": {},
   "outputs": [],
   "source": [
    "rootdir = \"//mxnws072/LimsImport/LimsImportFiles/DECAGON/CRE\""
   ]
  },
  {
   "cell_type": "code",
   "execution_count": 49,
   "metadata": {},
   "outputs": [],
   "source": [
    "def find_encoding(fname):\n",
    "    r_file = open(fname, 'rb').read()\n",
    "    result = chardet.detect(r_file)\n",
    "    charenc = result['encoding']\n",
    "    return charenc"
   ]
  },
  {
   "cell_type": "code",
   "execution_count": 50,
   "metadata": {},
   "outputs": [
    {
     "name": "stdout",
     "output_type": "stream",
     "text": [
      "\t//mxnws072/LimsImport/LimsImportFiles/DECAGON/CRE\\test_1.csv\n",
      "\ttest_1.csv\n",
      "\t//mxnws072/LimsImport/LimsImportFiles/DECAGON/CRE\\test_3.csv\n",
      "\ttest_3.csv\n",
      "\t//mxnws072/LimsImport/LimsImportFiles/DECAGON/CRE\\test_4.csv\n",
      "\ttest_4.csv\n"
     ]
    }
   ],
   "source": [
    "for fname in os.listdir(rootdir):\n",
    "    fullPathFile = os.path.join(rootdir, fname)\n",
    "    if os.path.isdir(fullPathFile):\n",
    "        continue\n",
    "    print('\\t%s' % fullPathFile)\n",
    "    print('\\t%s' % fname)"
   ]
  },
  {
   "cell_type": "code",
   "execution_count": 51,
   "metadata": {},
   "outputs": [],
   "source": [
    "#CRE\n",
    "fullPathFile='//mxnws072/LimsImport/LimsImportFiles/DECAGON/CRE/test_1.csv'\n",
    "fileEncoding = find_encoding(fullPathFile)\n",
    "df = pd.read_csv(fullPathFile,encoding=fileEncoding)\n"
   ]
  },
  {
   "cell_type": "code",
   "execution_count": 52,
   "metadata": {},
   "outputs": [],
   "source": [
    "df[\"Sample Number\"].fillna( method ='ffill', inplace = True)"
   ]
  },
  {
   "cell_type": "code",
   "execution_count": 53,
   "metadata": {},
   "outputs": [],
   "source": [
    "df[\"Sample Number\"] = df[\"Sample Number\"].astype(int)\n",
    "df=df.rename(columns={\"°C\": \"Temp\",})"
   ]
  },
  {
   "cell_type": "code",
   "execution_count": 54,
   "metadata": {},
   "outputs": [],
   "source": [
    "t=df[\"Sample Number\"].unique()"
   ]
  },
  {
   "cell_type": "code",
   "execution_count": 56,
   "metadata": {},
   "outputs": [],
   "source": [
    "lstD=[]\n",
    "for each in t:\n",
    "    wdict={}\n",
    "    df1=df.loc[df[\"Sample Number\"] == each]\n",
    "    df1 = df1.reset_index(drop=True)\n",
    "    df1[\"delta\"] = df1[\"Water Activity\"].diff().abs()\n",
    "    '''\n",
    "    df1[\"delta\"] = df1[\"Water Activity\"].diff(+1)\n",
    "    df1=df1.sort_values('Date Time', inplace=True)\n",
    "    '''\n",
    "    df1=df1.loc[df1[\"delta\"] <=.001]\n",
    "    wdict['Sample_Number']=df1.iloc[-1]['Sample Number']\n",
    "    wdict['Water_Activity']=df1.iloc[-1]['Water Activity']\n",
    "    wdict['Temp']=df1.iloc[-1]['Temp']\n",
    "    lstD.append(wdict)"
   ]
  },
  {
   "cell_type": "code",
   "execution_count": 57,
   "metadata": {},
   "outputs": [],
   "source": [
    "dfout=pd.DataFrame(lstD)"
   ]
  },
  {
   "cell_type": "code",
   "execution_count": 58,
   "metadata": {},
   "outputs": [],
   "source": [
    "fullPathFileSave='//mxnws072/LimsImport/LimsImportFiles/DECAGON/CRE/importIntoLims/test_1.csv'\n",
    "dfout.to_csv(fullPathFileSave, sep=',', encoding='utf-8',index=False)"
   ]
  },
  {
   "cell_type": "code",
   "execution_count": null,
   "metadata": {},
   "outputs": [],
   "source": []
  }
 ],
 "metadata": {
  "kernelspec": {
   "display_name": "Python 3",
   "language": "python",
   "name": "python3"
  },
  "language_info": {
   "codemirror_mode": {
    "name": "ipython",
    "version": 3
   },
   "file_extension": ".py",
   "mimetype": "text/x-python",
   "name": "python",
   "nbconvert_exporter": "python",
   "pygments_lexer": "ipython3",
   "version": "3.6.6"
  }
 },
 "nbformat": 4,
 "nbformat_minor": 2
}
