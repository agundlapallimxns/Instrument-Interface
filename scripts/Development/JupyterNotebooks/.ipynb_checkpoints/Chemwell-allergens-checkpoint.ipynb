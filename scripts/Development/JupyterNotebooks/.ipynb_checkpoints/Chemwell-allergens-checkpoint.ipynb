{
 "cells": [
  {
   "cell_type": "code",
   "execution_count": 5,
   "metadata": {},
   "outputs": [],
   "source": [
    "import pandas as pd\n",
    "import os \n",
    "path='//mxns.loc//shares//NA-Instruments//Crete//CHEMWELL_ALLERGENS//Instrument_LIMS_Files//'\n",
    "pathrawfiles='//mxns.loc//shares//NA-Instruments//Crete//CHEMWELL_ALLERGENS//Instrument_LIMS_Files//RawFiles//'\n",
    "destination='//mxns.loc//shares//NA-Instruments//Crete//CHEMWELL_ALLERGENS//Instrument_LIMS_Files//Archived//'"
   ]
  },
  {
   "cell_type": "code",
   "execution_count": 6,
   "metadata": {},
   "outputs": [
    {
     "name": "stdout",
     "output_type": "stream",
     "text": [
      "gliadin_190117-1_IT_Trial.xls\n"
     ]
    }
   ],
   "source": [
    "files = os.listdir(pathrawfiles)\n",
    "for name in files:\n",
    "    print(name)"
   ]
  },
  {
   "cell_type": "code",
   "execution_count": 7,
   "metadata": {},
   "outputs": [
    {
     "name": "stdout",
     "output_type": "stream",
     "text": [
      "*** No CODEPAGE record, no encoding_override: will use 'ascii'\n"
     ]
    },
    {
     "name": "stderr",
     "output_type": "stream",
     "text": [
      "c:\\users\\agundlapalli\\appdata\\local\\programs\\python\\python36\\lib\\site-packages\\ipykernel_launcher.py:7: SettingWithCopyWarning: \n",
      "A value is trying to be set on a copy of a slice from a DataFrame.\n",
      "Try using .loc[row_indexer,col_indexer] = value instead\n",
      "\n",
      "See the caveats in the documentation: http://pandas.pydata.org/pandas-docs/stable/indexing.html#indexing-view-versus-copy\n",
      "  import sys\n"
     ]
    }
   ],
   "source": [
    "datapathxl=pathrawfiles+str(name)\n",
    "dataxl = pd.read_excel(datapathxl)\n",
    "dataxl1=dataxl.drop_duplicates(subset='Sample',keep='first')\n",
    "dataxl11=dataxl1[dataxl1['Sample'].map(len)==11]\n",
    "collist=['Sample','Abs','Conc']\n",
    "dataxl111=dataxl11[collist]\n",
    "dataxl111['Sample']=dataxl111['Sample'].str[2:]"
   ]
  },
  {
   "cell_type": "code",
   "execution_count": 8,
   "metadata": {},
   "outputs": [],
   "source": [
    "FileName=path+name[:-4]+'.csv'\n",
    "dataxl111.to_csv(FileName, index=False,encoding=\"utf-8\")\n",
    "destination=destination+name[:-4]+'_raw.ARK'\n",
    "os.rename(datapathxl, destination)"
   ]
  },
  {
   "cell_type": "code",
   "execution_count": null,
   "metadata": {},
   "outputs": [],
   "source": [
    "import pandas as pd\n",
    "import os \n",
    "path='//mxns.loc//shares//NA-Instruments//Crete//CHEMWELL_ALLERGENS//Instrument_LIMS_Files//'\n",
    "pathrawfiles='//mxns.loc//shares//NA-Instruments//Crete//CHEMWELL_ALLERGENS//Instrument_LIMS_Files//RawFiles//'"
   ]
  }
 ],
 "metadata": {
  "kernelspec": {
   "display_name": "Python 3",
   "language": "python",
   "name": "python3"
  },
  "language_info": {
   "codemirror_mode": {
    "name": "ipython",
    "version": 3
   },
   "file_extension": ".py",
   "mimetype": "text/x-python",
   "name": "python",
   "nbconvert_exporter": "python",
   "pygments_lexer": "ipython3",
   "version": "3.6.6"
  }
 },
 "nbformat": 4,
 "nbformat_minor": 2
}
