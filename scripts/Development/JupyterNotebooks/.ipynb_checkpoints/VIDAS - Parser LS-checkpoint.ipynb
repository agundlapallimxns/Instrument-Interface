{
 "cells": [
  {
   "cell_type": "code",
   "execution_count": 4,
   "metadata": {},
   "outputs": [],
   "source": [
    "import pandas as pd\n",
    "import os\n",
    "import fnmatch\n",
    "import numpy as np\n",
    "from datetime import datetime\n",
    "import time\n",
    "import csv\n",
    "import sys\n",
    "import sqlalchemy as sql\n",
    "basePath = '//mxns.loc//shares//NA-Instruments//VIDAS//VIDAS_LIMS//'\n",
    "#colsOrder = ['Sample.Sample_Number', 'Test.Analysis', 'Test.Replicate_Count','Result.Name', 'Result.Entry', 'Result.Entered_By']\n",
    "colsOrder = ['Sample.Sample_Number', 'Test.Test_Number', 'Result.Name', 'Result.Entry', 'Result.Entered_By']\n",
    "dbHost='mxnunx41'\n",
    "dbPort='1521'\n",
    "dbUser='lims'\n",
    "dbPassword='Mumwit63'\n",
    "dbName='hwi1'\n",
    "dburl='oracle://'"
   ]
  },
  {
   "cell_type": "code",
   "execution_count": 17,
   "metadata": {},
   "outputs": [],
   "source": [
    "# function to generate the result name\n",
    "def generateResultname(testIdentifier, variable):\n",
    "    if (variable == 'R2'):\n",
    "        return str(testIdentifier)\n",
    "    else:\n",
    "        return str('OD' + str(testIdentifier))"
   ]
  },
  {
   "cell_type": "code",
   "execution_count": null,
   "metadata": {},
   "outputs": [],
   "source": [
    "# function to generate the result name\n",
    "def generateResult(value):\n",
    "    resultInvalidFlag=0\n",
    "    if value in ('ABSENT','NEGATIVE'):\n",
    "        return str('NEGATIVE'),resultInvalidFlag\n",
    "    elif value in ('INVALID'):\n",
    "        resultInvalidFlag=1\n",
    "        return str('INVALID'),resultInvalidFlag\n",
    "    else:\n",
    "        return str('SUSPECT'),resultInvalidFlag"
   ]
  },
  {
   "cell_type": "code",
   "execution_count": null,
   "metadata": {},
   "outputs": [],
   "source": [
    "# function to generate the result name\n",
    "def generateReplicateCnt(value):\n",
    "    retVal= ord(value) - 64\n",
    "    return  retVal\n",
    "\n",
    "# fucntion to Create a folder if it dosen't exsist.\n",
    "def createFolderIfNotExsist(folderPath):\n",
    "    if os.path.exists(folderPath):\n",
    "        pass\n",
    "    else:\n",
    "        os.makedirs(folderPath)\n",
    "        print('Folder Created:' + folderPath)"
   ]
  },
  {
   "cell_type": "code",
   "execution_count": 15,
   "metadata": {},
   "outputs": [],
   "source": [
    "def getTestNumberfromDb(sampleNumber,analysisCode):\n",
    "    dburl = 'oracle://'+dbUser+':'+dbPassword+'@'+dbHost+':'+dbPort+'/'+dbName\n",
    "    engine=sql.create_engine(dburl)\n",
    "    resultdf=pd.DataFrame()\n",
    "    queryText=\"SELECT DISTINCT T.TEST_NUMBER FROM TEST T , ANALYSIS A, COMPONENT C WHERE T.ANALYSIS=A.NAME AND a.NAME=c.ANALYSIS\"\n",
    "    queryText=queryText+\" AND a.ALIAS_NAME='VIDAS'AND t.SAMPLE_NUMBER='\"+str(sampleNumber)+\"'AND c.ALIAS_NAME='\"+str(analysisCode)+\"'\"\n",
    "    conn = engine.connect()\n",
    "    retTestNumber = conn.execute(queryText).fetchone()[0]\n",
    "    conn.close()\n",
    "    return retTestNumber"
   ]
  },
  {
   "cell_type": "code",
   "execution_count": null,
   "metadata": {},
   "outputs": [],
   "source": [
    "# Moce to ARK folder\n",
    "def moveFiletoArkFolder(arkPath, sourcePath, fname):\n",
    "    # checking the exsitnace of Archive directory and path\n",
    "    createFolderIfNotExsist(arkPath)\n",
    "    print(\"Source for moving\" + sourcePath)\n",
    "    print(\"dest for moving\" + arkPath)\n",
    "    arkDest = arkPath + fname[:-4] + '.bak'  # Backup the processed file\n",
    "    os.rename(sourcePath, arkDest)\n",
    "    time.sleep(1)"
   ]
  },
  {
   "cell_type": "code",
   "execution_count": null,
   "metadata": {},
   "outputs": [],
   "source": [
    "# write the file to importer folder\n",
    "def writeFile(dframe, lab, instName, basePath):\n",
    "    timestr = time.strftime(\"%Y%m%d%H%M%S\")\n",
    "    fname = instName + '_' + timestr + '.csv'\n",
    "    importerPath = basePath + lab + '_IMPORTER//'\n",
    "    createFolderIfNotExsist(importerPath)\n",
    "    importerFilePath = importerPath + fname\n",
    "    dframe.to_csv(importerFilePath, index=False, encoding=\"utf-8\", quotechar='\"',\n",
    "                  quoting=csv.QUOTE_NONNUMERIC)  # write  out the file to be imported\n",
    "    print('Importer File Generated' + fname)\n",
    "    time.sleep(1)"
   ]
  },
  {
   "cell_type": "code",
   "execution_count": null,
   "metadata": {},
   "outputs": [],
   "source": [
    "def GenerateImporterFile(raw_data,instName,basePath):\n",
    "    raw_data['specimenIdentifier'] = raw_data[0]\n",
    "    raw_data['testIdentifier'] = raw_data[1]\n",
    "    raw_data['R1'] = raw_data[5]\n",
    "    raw_data['Rtext'] = raw_data[2]\n",
    "    raw_data['R2'] = raw_data.apply(lambda x: generateResult(x.Rtext), axis=1)\n",
    "    print(\"Invalid:\"+ str(invalidFlag))\n",
    "    if(invalidFlag==1):\n",
    "        return\n",
    "    raw_data['patientIdentifier'] = raw_data[4]\n",
    "    raw_data = raw_data[np.isfinite(raw_data[\"patientIdentifier\"])]\n",
    "    raw_data['patientIdentifier'] = raw_data['patientIdentifier'].astype(int)\n",
    "    raw_data[\"samplenumber\"] = raw_data[\"patientIdentifier\"].map(str) + raw_data[\"specimenIdentifier\"].str[-6:]\n",
    "    raw_data[\"replicateStr\"] = raw_data[\"specimenIdentifier\"].str[-7:-6]\n",
    "    raw_data[\"replicatecnt\"] = raw_data.apply(lambda x: generateReplicateCnt(x.replicateStr), axis=1)\n",
    "    sampleNumber=raw_data.iloc[0]['samplenumber']\n",
    "    analysisCode=raw_data.iloc[0]['Rtext']\n",
    "    raw_data[\"testNumber\"] = getTestNumberfromDb(sampleNumber,analysisCode)\n",
    "    dfResult = pd.melt(raw_data,\n",
    "                       id_vars=['instrumentName', 'specimenIdentifier', 'testIdentifier', 'samplenumber',\n",
    "                                'replicatecnt'],\n",
    "                       value_vars=['R1', 'R2'])\n",
    "    dfResult['Result.Name'] = dfResult.apply(lambda x: generateResultname(x.testIdentifier, x.variable), axis=1)\n",
    "    dfResult['Test.Analysis'] = 'VIDAS'\n",
    "    dfResult['Result.Entered_By'] = 'VIDASBCI'\n",
    "    dfResult = dfResult.rename(index=str,\n",
    "                               columns={'samplenumber': 'Sample.Sample_Number', 'value': 'Result.Entry',\n",
    "                                        'replicatecnt': 'Test.Replicate_Count', 'testNumber':'Test.Test_Number',\n",
    "                                        'instrumentName': 'Result.Instrument'})\n",
    "    dfResult = dfResult.astype({\"Sample.Sample_Number\": int})\n",
    "    dfResult = dfResult.sort_values(by=['Sample.Sample_Number', 'Result.Name'])\n",
    "    dfResult = dfResult[colsOrder]\n",
    "    writeFile(dfResult, lab, instName, basePath)"
   ]
  },
  {
   "cell_type": "code",
   "execution_count": null,
   "metadata": {},
   "outputs": [],
   "source": [
    "# Function to Process Each Lab seperately\n",
    "def processEachLabFiles(lab, labcount, labImporterPath, basePath):\n",
    "    print('Process started for ' + lab)\n",
    "    fileCounter = 0\n",
    "    #createFolderIfNotExsist(labImporterPath)\n",
    "    li = []\n",
    "    fileStatusFlag = False\n",
    "    for each in range(1, labcount + 1):\n",
    "        instName = lab + 'VIDAS' + str(each)\n",
    "        sourceFolderPath = basePath + instName + '//'\n",
    "        arkFolderPath = sourceFolderPath + 'Archive//' + datetime.now().strftime('%Y') + '//' + datetime.now().strftime(\n",
    "            '%m_%d') + '//'\n",
    "        # checking the exsitnace of importer path\n",
    "        errorFolderPath = sourceFolderPath + 'Error//' + datetime.now().strftime('%Y') + '//' + datetime.now().strftime(\n",
    "            '%m_%d') + '//'\n",
    "        createFolderIfNotExsist(sourceFolderPath)\n",
    "        files = os.listdir(sourceFolderPath)\n",
    "        for filename in files:\n",
    "            if fnmatch.fnmatch(filename, '*.CSV'):\n",
    "                print('Processing Files for :' + lab)\n",
    "                sourcefilePath = sourceFolderPath + str(filename)\n",
    "                try:\n",
    "                    rawdf = pd.read_csv(sourcefilePath, index_col=None, header=None)\n",
    "                    rawdf['instrumentName'] = instName\n",
    "                    #li.append(rawdf)\n",
    "                    print('Processed :' + filename)\n",
    "                    # Moving to Archive Folder\n",
    "                    fileStatusFlag = True\n",
    "                    fileCounter = fileCounter + 1\n",
    "                    GenerateImporterFile(rawdf, instName, basePath)\n",
    "                    if(invalidFlag==1):\n",
    "                        moveFiletoFolder(errorFolderPath, sourcefilePath, filename)\n",
    "                    else:\n",
    "                        moveFiletoFolder(arkFolderPath, sourcefilePath, filename)\n",
    "                    continue\n",
    "                except:\n",
    "                    #Moving to Error Folder\n",
    "                    moveFiletoFolder(errorFolderPath, sourcefilePath, filename)\n",
    "                    invalidFlag = 0\n",
    "                    continue"
   ]
  },
  {
   "cell_type": "code",
   "execution_count": null,
   "metadata": {},
   "outputs": [],
   "source": [
    "lab = sys.argv[1]\n",
    "labcount = int(sys.argv[2])\n",
    "labImporterPath = \"\"\n",
    "processEachLabFiles(lab, labcount, labImporterPath, basePath)"
   ]
  },
  {
   "cell_type": "code",
   "execution_count": null,
   "metadata": {},
   "outputs": [],
   "source": []
  }
 ],
 "metadata": {
  "kernelspec": {
   "display_name": "Python 3",
   "language": "python",
   "name": "python3"
  },
  "language_info": {
   "codemirror_mode": {
    "name": "ipython",
    "version": 3
   },
   "file_extension": ".py",
   "mimetype": "text/x-python",
   "name": "python",
   "nbconvert_exporter": "python",
   "pygments_lexer": "ipython3",
   "version": "3.6.6"
  }
 },
 "nbformat": 4,
 "nbformat_minor": 2
}
