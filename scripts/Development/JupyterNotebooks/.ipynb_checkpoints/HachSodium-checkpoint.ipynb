{
 "cells": [
  {
   "cell_type": "code",
   "execution_count": 2,
   "metadata": {},
   "outputs": [],
   "source": [
    "# Import Functions\n",
    "import pandas as pd\n",
    "import os\n",
    "import time\n",
    "import csv\n",
    "import json\n",
    "import fnmatch\n",
    "import csv\n",
    "import sqlalchemy as sql\n",
    "import numpy as np\n",
    "dbHost='mxnunx41'\n",
    "dbPort='1521'\n",
    "dbUser='lims'\n",
    "dbPassword='Mumwit63'\n",
    "dbName='hwi1'\n",
    "dburl='oracle://'"
   ]
  },
  {
   "cell_type": "code",
   "execution_count": 3,
   "metadata": {},
   "outputs": [],
   "source": [
    "# Default Parameters setting\n",
    "with open('.\\configFiles\\HachConfig.json', 'r') as f:\n",
    "    config = json.load(f)\n",
    "lab = config['lab']\n",
    "analysis = config['analysis']\n",
    "inst = config['inst']\n",
    "colsOrder=['Sample.Sample_Number', 'Test.Test_Number','Result.Name', 'Result.Entry', 'Result.Entered_By']"
   ]
  },
  {
   "cell_type": "code",
   "execution_count": 4,
   "metadata": {},
   "outputs": [],
   "source": [
    "# get Data from DB\n",
    "def getDataFromDB(sampleNumbersList):\n",
    "    dburl = 'oracle://'+dbUser+':'+dbPassword+'@'+dbHost+':'+dbPort+'/'+dbName\n",
    "    engine=sql.create_engine(dburl)\n",
    "    resultdf=pd.DataFrame()\n",
    "    sampleNumbrStr=(', '.join(\"'\" + item + \"'\" for item in sampleNumbersList))\n",
    "    queryText=\"SELECT sample_number, analysis, REPLICATE_COUNT,TEST_NUMBER FROM test\"\n",
    "    queryText=queryText+\" WHERE SAMPLE_NUMBER IN (\"+sampleNumbrStr+\") AND analysis IN ('SODIUM-ISE')\"\n",
    "    conn = engine.connect()\n",
    "    resultdf = pd.read_sql(queryText, engine)\n",
    "    conn.close()\n",
    "    return resultdf"
   ]
  },
  {
   "cell_type": "code",
   "execution_count": 5,
   "metadata": {},
   "outputs": [],
   "source": [
    "def formatSampleNumber(sampleNumstring):\n",
    "    return sampleNumstring[:9]"
   ]
  },
  {
   "cell_type": "code",
   "execution_count": 6,
   "metadata": {},
   "outputs": [],
   "source": [
    "#write the file\n",
    "def writeFile(dframe,lab,inst,archDestination,importDest,datapath,fname):\n",
    "    timestr = time.strftime(\"%Y%m%d%H%M%S\")\n",
    "    FileName = importDest + lab+'_'+inst+'_' + timestr + '.csv'\n",
    "    dframe.to_csv(FileName, index=False, encoding=\"utf-8\",quotechar='\"',quoting=csv.QUOTE_NONNUMERIC) # write  out the file to be imported\n",
    "    destination = archDestination + fname[:-4] + '.bak' # Backup the processed file\n",
    "    os.rename(datapath, destination)\n",
    "    time.sleep(1)"
   ]
  },
  {
   "cell_type": "code",
   "execution_count": 6,
   "metadata": {},
   "outputs": [
    {
     "name": "stdout",
     "output_type": "stream",
     "text": [
      "Lab:Allentown\n",
      "//mxns.loc//shares//NA-Instruments//Prod//Allentown//Import//Hach//\n"
     ]
    }
   ],
   "source": [
    "for eachlab in lab:\n",
    "    path='//mxns.loc//shares//NA-Instruments//Prod//'+eachlab+'//Import//'+inst+'//'\n",
    "    archivedDestination='//mxns.loc//shares//NA-Instruments//Prod//'+eachlab+'//Import//'+inst+'//'\n",
    "    importDest='//mxns.loc//shares//NA-Instruments//Prod//'+eachlab+'//impf//'\n",
    "    print(path)\n",
    "    if os.path.exists(path):\n",
    "        break\n",
    "    else:\n",
    "        os.makedirs(path)\n",
    "    files = os.listdir(path)\n",
    "    for filename in files:\n",
    "        if fnmatch.fnmatch(filename,'*.CSV'):\n",
    "            print (filename)"
   ]
  },
  {
   "cell_type": "code",
   "execution_count": 8,
   "metadata": {},
   "outputs": [],
   "source": [
    "path='//mxnws073//LimsImport//LimsImportFiles//HACH//ALN//ARC//'"
   ]
  },
  {
   "cell_type": "code",
   "execution_count": 9,
   "metadata": {},
   "outputs": [],
   "source": [
    "filename='HQ40dUpload_20190410_160241.csv'\n",
    "datapathxl = path + str(filename)\n",
    "rawdf = pd.read_csv(datapathxl,encoding='utf-8')"
   ]
  },
  {
   "cell_type": "code",
   "execution_count": 10,
   "metadata": {},
   "outputs": [
    {
     "data": {
      "text/html": [
       "<div>\n",
       "<style scoped>\n",
       "    .dataframe tbody tr th:only-of-type {\n",
       "        vertical-align: middle;\n",
       "    }\n",
       "\n",
       "    .dataframe tbody tr th {\n",
       "        vertical-align: top;\n",
       "    }\n",
       "\n",
       "    .dataframe thead th {\n",
       "        text-align: right;\n",
       "    }\n",
       "</style>\n",
       "<table border=\"1\" class=\"dataframe\">\n",
       "  <thead>\n",
       "    <tr style=\"text-align: right;\">\n",
       "      <th></th>\n",
       "      <th>Type</th>\n",
       "      <th>Parameter Type</th>\n",
       "      <th>Date</th>\n",
       "      <th>Time</th>\n",
       "      <th>Operator ID</th>\n",
       "      <th>Probe Model</th>\n",
       "      <th>Probe SN</th>\n",
       "      <th>Method Name</th>\n",
       "      <th>Sample ID</th>\n",
       "      <th>Primary Reading Value</th>\n",
       "      <th>...</th>\n",
       "      <th>Cal Std 3 Supp Value</th>\n",
       "      <th>Cal Std 4</th>\n",
       "      <th>Cal Std 4 Units</th>\n",
       "      <th>Cal Std 4 Primary Value</th>\n",
       "      <th>Cal Std 4 Primary Units</th>\n",
       "      <th>Cal Std 4 Supp Value</th>\n",
       "      <th>Cal Std 5</th>\n",
       "      <th>Cal Std 5 Units</th>\n",
       "      <th>Cal Std 5 Primary Value</th>\n",
       "      <th>Cal Std 5.1</th>\n",
       "    </tr>\n",
       "  </thead>\n",
       "  <tbody>\n",
       "    <tr>\n",
       "      <th>0</th>\n",
       "      <td>RD</td>\n",
       "      <td>Na</td>\n",
       "      <td>10-4-2019</td>\n",
       "      <td>1:20:06 PM</td>\n",
       "      <td>- - -</td>\n",
       "      <td>ISENa381</td>\n",
       "      <td>&lt;183402907692</td>\n",
       "      <td>Default</td>\n",
       "      <td>378076457 (009)</td>\n",
       "      <td>686</td>\n",
       "      <td>...</td>\n",
       "      <td>NaN</td>\n",
       "      <td>NaN</td>\n",
       "      <td>NaN</td>\n",
       "      <td>NaN</td>\n",
       "      <td>NaN</td>\n",
       "      <td>NaN</td>\n",
       "      <td>NaN</td>\n",
       "      <td>NaN</td>\n",
       "      <td>NaN</td>\n",
       "      <td>NaN</td>\n",
       "    </tr>\n",
       "    <tr>\n",
       "      <th>1</th>\n",
       "      <td>RD</td>\n",
       "      <td>Na</td>\n",
       "      <td>10-4-2019</td>\n",
       "      <td>1:22:55 PM</td>\n",
       "      <td>- - -</td>\n",
       "      <td>ISENa381</td>\n",
       "      <td>&lt;183402907692</td>\n",
       "      <td>Default</td>\n",
       "      <td>378076457 (010)</td>\n",
       "      <td>316</td>\n",
       "      <td>...</td>\n",
       "      <td>NaN</td>\n",
       "      <td>NaN</td>\n",
       "      <td>NaN</td>\n",
       "      <td>NaN</td>\n",
       "      <td>NaN</td>\n",
       "      <td>NaN</td>\n",
       "      <td>NaN</td>\n",
       "      <td>NaN</td>\n",
       "      <td>NaN</td>\n",
       "      <td>NaN</td>\n",
       "    </tr>\n",
       "    <tr>\n",
       "      <th>2</th>\n",
       "      <td>Type</td>\n",
       "      <td>Parameter Type</td>\n",
       "      <td>Date</td>\n",
       "      <td>Time</td>\n",
       "      <td>Operator ID</td>\n",
       "      <td>Probe Model</td>\n",
       "      <td>Probe SN</td>\n",
       "      <td>Method Name</td>\n",
       "      <td>Sample ID</td>\n",
       "      <td>Primary Reading Value</td>\n",
       "      <td>...</td>\n",
       "      <td>Cal Std 3 Supp Value</td>\n",
       "      <td>Cal Std 4</td>\n",
       "      <td>Cal Std 4 Units</td>\n",
       "      <td>Cal Std 4 Primary Value</td>\n",
       "      <td>Cal Std 4 Primary Units</td>\n",
       "      <td>Cal Std 4 Supp Value</td>\n",
       "      <td>Cal Std 5</td>\n",
       "      <td>Cal Std 5 Units</td>\n",
       "      <td>Cal Std 5 Primary Value</td>\n",
       "      <td>Cal Std 5</td>\n",
       "    </tr>\n",
       "    <tr>\n",
       "      <th>3</th>\n",
       "      <td>RD</td>\n",
       "      <td>Na</td>\n",
       "      <td>10-4-2019</td>\n",
       "      <td>1:29:43 PM</td>\n",
       "      <td>- - -</td>\n",
       "      <td>ISENa381</td>\n",
       "      <td>&lt;183402907692</td>\n",
       "      <td>Default</td>\n",
       "      <td>387024614 (001)</td>\n",
       "      <td>317</td>\n",
       "      <td>...</td>\n",
       "      <td>NaN</td>\n",
       "      <td>NaN</td>\n",
       "      <td>NaN</td>\n",
       "      <td>NaN</td>\n",
       "      <td>NaN</td>\n",
       "      <td>NaN</td>\n",
       "      <td>NaN</td>\n",
       "      <td>NaN</td>\n",
       "      <td>NaN</td>\n",
       "      <td>NaN</td>\n",
       "    </tr>\n",
       "    <tr>\n",
       "      <th>4</th>\n",
       "      <td>RD</td>\n",
       "      <td>Na</td>\n",
       "      <td>10-4-2019</td>\n",
       "      <td>1:33:12 PM</td>\n",
       "      <td>- - -</td>\n",
       "      <td>ISENa381</td>\n",
       "      <td>&lt;183402907692</td>\n",
       "      <td>Default</td>\n",
       "      <td>387114711 (001)</td>\n",
       "      <td>685</td>\n",
       "      <td>...</td>\n",
       "      <td>NaN</td>\n",
       "      <td>NaN</td>\n",
       "      <td>NaN</td>\n",
       "      <td>NaN</td>\n",
       "      <td>NaN</td>\n",
       "      <td>NaN</td>\n",
       "      <td>NaN</td>\n",
       "      <td>NaN</td>\n",
       "      <td>NaN</td>\n",
       "      <td>NaN</td>\n",
       "    </tr>\n",
       "  </tbody>\n",
       "</table>\n",
       "<p>5 rows × 65 columns</p>\n",
       "</div>"
      ],
      "text/plain": [
       "   Type  Parameter Type       Date        Time  Operator ID  Probe Model  \\\n",
       "0    RD              Na  10-4-2019  1:20:06 PM        - - -     ISENa381   \n",
       "1    RD              Na  10-4-2019  1:22:55 PM        - - -     ISENa381   \n",
       "2  Type  Parameter Type       Date        Time  Operator ID  Probe Model   \n",
       "3    RD              Na  10-4-2019  1:29:43 PM        - - -     ISENa381   \n",
       "4    RD              Na  10-4-2019  1:33:12 PM        - - -     ISENa381   \n",
       "\n",
       "        Probe SN  Method Name        Sample ID  Primary Reading Value  \\\n",
       "0  <183402907692      Default  378076457 (009)                    686   \n",
       "1  <183402907692      Default  378076457 (010)                    316   \n",
       "2       Probe SN  Method Name        Sample ID  Primary Reading Value   \n",
       "3  <183402907692      Default  387024614 (001)                    317   \n",
       "4  <183402907692      Default  387114711 (001)                    685   \n",
       "\n",
       "      ...      Cal Std 3 Supp Value  Cal Std 4  Cal Std 4 Units  \\\n",
       "0     ...                       NaN        NaN              NaN   \n",
       "1     ...                       NaN        NaN              NaN   \n",
       "2     ...      Cal Std 3 Supp Value  Cal Std 4  Cal Std 4 Units   \n",
       "3     ...                       NaN        NaN              NaN   \n",
       "4     ...                       NaN        NaN              NaN   \n",
       "\n",
       "   Cal Std 4 Primary Value  Cal Std 4 Primary Units  Cal Std 4 Supp Value  \\\n",
       "0                      NaN                      NaN                   NaN   \n",
       "1                      NaN                      NaN                   NaN   \n",
       "2  Cal Std 4 Primary Value  Cal Std 4 Primary Units  Cal Std 4 Supp Value   \n",
       "3                      NaN                      NaN                   NaN   \n",
       "4                      NaN                      NaN                   NaN   \n",
       "\n",
       "   Cal Std 5  Cal Std 5 Units  Cal Std 5 Primary Value Cal Std 5.1  \n",
       "0        NaN              NaN                      NaN         NaN  \n",
       "1        NaN              NaN                      NaN         NaN  \n",
       "2  Cal Std 5  Cal Std 5 Units  Cal Std 5 Primary Value   Cal Std 5  \n",
       "3        NaN              NaN                      NaN         NaN  \n",
       "4        NaN              NaN                      NaN         NaN  \n",
       "\n",
       "[5 rows x 65 columns]"
      ]
     },
     "execution_count": 10,
     "metadata": {},
     "output_type": "execute_result"
    }
   ],
   "source": [
    "rawdf"
   ]
  },
  {
   "cell_type": "code",
   "execution_count": 12,
   "metadata": {},
   "outputs": [],
   "source": [
    "ImpCols=['Type','Sample ID','Primary Reading Value']"
   ]
  },
  {
   "cell_type": "code",
   "execution_count": 13,
   "metadata": {},
   "outputs": [],
   "source": [
    "rawdf=rawdf[ImpCols]"
   ]
  },
  {
   "cell_type": "code",
   "execution_count": 14,
   "metadata": {},
   "outputs": [
    {
     "data": {
      "text/html": [
       "<div>\n",
       "<style scoped>\n",
       "    .dataframe tbody tr th:only-of-type {\n",
       "        vertical-align: middle;\n",
       "    }\n",
       "\n",
       "    .dataframe tbody tr th {\n",
       "        vertical-align: top;\n",
       "    }\n",
       "\n",
       "    .dataframe thead th {\n",
       "        text-align: right;\n",
       "    }\n",
       "</style>\n",
       "<table border=\"1\" class=\"dataframe\">\n",
       "  <thead>\n",
       "    <tr style=\"text-align: right;\">\n",
       "      <th></th>\n",
       "      <th>Type</th>\n",
       "      <th>Sample ID</th>\n",
       "      <th>Primary Reading Value</th>\n",
       "    </tr>\n",
       "  </thead>\n",
       "  <tbody>\n",
       "    <tr>\n",
       "      <th>0</th>\n",
       "      <td>RD</td>\n",
       "      <td>378076457 (009)</td>\n",
       "      <td>686</td>\n",
       "    </tr>\n",
       "    <tr>\n",
       "      <th>1</th>\n",
       "      <td>RD</td>\n",
       "      <td>378076457 (010)</td>\n",
       "      <td>316</td>\n",
       "    </tr>\n",
       "    <tr>\n",
       "      <th>2</th>\n",
       "      <td>Type</td>\n",
       "      <td>Sample ID</td>\n",
       "      <td>Primary Reading Value</td>\n",
       "    </tr>\n",
       "    <tr>\n",
       "      <th>3</th>\n",
       "      <td>RD</td>\n",
       "      <td>387024614 (001)</td>\n",
       "      <td>317</td>\n",
       "    </tr>\n",
       "    <tr>\n",
       "      <th>4</th>\n",
       "      <td>RD</td>\n",
       "      <td>387114711 (001)</td>\n",
       "      <td>685</td>\n",
       "    </tr>\n",
       "  </tbody>\n",
       "</table>\n",
       "</div>"
      ],
      "text/plain": [
       "   Type        Sample ID  Primary Reading Value\n",
       "0    RD  378076457 (009)                    686\n",
       "1    RD  378076457 (010)                    316\n",
       "2  Type        Sample ID  Primary Reading Value\n",
       "3    RD  387024614 (001)                    317\n",
       "4    RD  387114711 (001)                    685"
      ]
     },
     "execution_count": 14,
     "metadata": {},
     "output_type": "execute_result"
    }
   ],
   "source": [
    "rawdf"
   ]
  },
  {
   "cell_type": "code",
   "execution_count": 15,
   "metadata": {},
   "outputs": [
    {
     "name": "stderr",
     "output_type": "stream",
     "text": [
      "c:\\users\\agundlapalli\\appdata\\local\\programs\\python\\python36\\lib\\site-packages\\pandas\\core\\frame.py:3697: SettingWithCopyWarning: \n",
      "A value is trying to be set on a copy of a slice from a DataFrame\n",
      "\n",
      "See the caveats in the documentation: http://pandas.pydata.org/pandas-docs/stable/indexing.html#indexing-view-versus-copy\n",
      "  errors=errors)\n"
     ]
    }
   ],
   "source": [
    "rawdf.drop(rawdf[rawdf.Type !='RD'].index, inplace=True)"
   ]
  },
  {
   "cell_type": "code",
   "execution_count": 16,
   "metadata": {},
   "outputs": [
    {
     "name": "stderr",
     "output_type": "stream",
     "text": [
      "c:\\users\\agundlapalli\\appdata\\local\\programs\\python\\python36\\lib\\site-packages\\ipykernel_launcher.py:1: SettingWithCopyWarning: \n",
      "A value is trying to be set on a copy of a slice from a DataFrame.\n",
      "Try using .loc[row_indexer,col_indexer] = value instead\n",
      "\n",
      "See the caveats in the documentation: http://pandas.pydata.org/pandas-docs/stable/indexing.html#indexing-view-versus-copy\n",
      "  \"\"\"Entry point for launching an IPython kernel.\n"
     ]
    }
   ],
   "source": [
    "rawdf['sample_number']=rawdf['Sample ID'].apply(formatSampleNumber)"
   ]
  },
  {
   "cell_type": "code",
   "execution_count": 18,
   "metadata": {},
   "outputs": [
    {
     "data": {
      "text/html": [
       "<div>\n",
       "<style scoped>\n",
       "    .dataframe tbody tr th:only-of-type {\n",
       "        vertical-align: middle;\n",
       "    }\n",
       "\n",
       "    .dataframe tbody tr th {\n",
       "        vertical-align: top;\n",
       "    }\n",
       "\n",
       "    .dataframe thead th {\n",
       "        text-align: right;\n",
       "    }\n",
       "</style>\n",
       "<table border=\"1\" class=\"dataframe\">\n",
       "  <thead>\n",
       "    <tr style=\"text-align: right;\">\n",
       "      <th></th>\n",
       "      <th>Type</th>\n",
       "      <th>Sample ID</th>\n",
       "      <th>Primary Reading Value</th>\n",
       "      <th>sample_number</th>\n",
       "    </tr>\n",
       "  </thead>\n",
       "  <tbody>\n",
       "    <tr>\n",
       "      <th>0</th>\n",
       "      <td>RD</td>\n",
       "      <td>378076457 (009)</td>\n",
       "      <td>686</td>\n",
       "      <td>378076457</td>\n",
       "    </tr>\n",
       "    <tr>\n",
       "      <th>1</th>\n",
       "      <td>RD</td>\n",
       "      <td>378076457 (010)</td>\n",
       "      <td>316</td>\n",
       "      <td>378076457</td>\n",
       "    </tr>\n",
       "    <tr>\n",
       "      <th>3</th>\n",
       "      <td>RD</td>\n",
       "      <td>387024614 (001)</td>\n",
       "      <td>317</td>\n",
       "      <td>387024614</td>\n",
       "    </tr>\n",
       "    <tr>\n",
       "      <th>4</th>\n",
       "      <td>RD</td>\n",
       "      <td>387114711 (001)</td>\n",
       "      <td>685</td>\n",
       "      <td>387114711</td>\n",
       "    </tr>\n",
       "  </tbody>\n",
       "</table>\n",
       "</div>"
      ],
      "text/plain": [
       "  Type        Sample ID Primary Reading Value sample_number\n",
       "0   RD  378076457 (009)                   686     378076457\n",
       "1   RD  378076457 (010)                   316     378076457\n",
       "3   RD  387024614 (001)                   317     387024614\n",
       "4   RD  387114711 (001)                   685     387114711"
      ]
     },
     "execution_count": 18,
     "metadata": {},
     "output_type": "execute_result"
    }
   ],
   "source": [
    "rawdf"
   ]
  },
  {
   "cell_type": "code",
   "execution_count": 19,
   "metadata": {},
   "outputs": [],
   "source": [
    "sampleNumbersList=list(rawdf['sample_number'].unique())"
   ]
  },
  {
   "cell_type": "code",
   "execution_count": 20,
   "metadata": {},
   "outputs": [],
   "source": [
    "databasedf=getDataFromDB(sampleNumbersList)"
   ]
  },
  {
   "cell_type": "code",
   "execution_count": 21,
   "metadata": {},
   "outputs": [],
   "source": [
    "rawdf=rawdf.astype({\"sample_number\": int})"
   ]
  },
  {
   "cell_type": "code",
   "execution_count": 22,
   "metadata": {},
   "outputs": [],
   "source": [
    "dfResult = rawdf.merge(databasedf, how = 'inner', on = ['sample_number'])"
   ]
  },
  {
   "cell_type": "code",
   "execution_count": 23,
   "metadata": {},
   "outputs": [],
   "source": [
    "dfResult=dfResult.rename(index=str, \n",
    "columns={'sample_number': 'Sample.Sample_Number', 'resultname': 'Result.Name','Primary Reading Value': 'Result.Entry','test_number':'Test.Test_Number'})"
   ]
  },
  {
   "cell_type": "code",
   "execution_count": 24,
   "metadata": {},
   "outputs": [],
   "source": [
    "dfResultReplicateMax = dfResult.groupby('Sample.Sample_Number')['replicate_count'].max().reset_index()"
   ]
  },
  {
   "cell_type": "code",
   "execution_count": 25,
   "metadata": {},
   "outputs": [
    {
     "data": {
      "text/html": [
       "<div>\n",
       "<style scoped>\n",
       "    .dataframe tbody tr th:only-of-type {\n",
       "        vertical-align: middle;\n",
       "    }\n",
       "\n",
       "    .dataframe tbody tr th {\n",
       "        vertical-align: top;\n",
       "    }\n",
       "\n",
       "    .dataframe thead th {\n",
       "        text-align: right;\n",
       "    }\n",
       "</style>\n",
       "<table border=\"1\" class=\"dataframe\">\n",
       "  <thead>\n",
       "    <tr style=\"text-align: right;\">\n",
       "      <th></th>\n",
       "      <th>Sample.Sample_Number</th>\n",
       "      <th>replicate_count</th>\n",
       "    </tr>\n",
       "  </thead>\n",
       "  <tbody>\n",
       "    <tr>\n",
       "      <th>0</th>\n",
       "      <td>378076457</td>\n",
       "      <td>3</td>\n",
       "    </tr>\n",
       "    <tr>\n",
       "      <th>1</th>\n",
       "      <td>387024614</td>\n",
       "      <td>1</td>\n",
       "    </tr>\n",
       "    <tr>\n",
       "      <th>2</th>\n",
       "      <td>387114711</td>\n",
       "      <td>3</td>\n",
       "    </tr>\n",
       "  </tbody>\n",
       "</table>\n",
       "</div>"
      ],
      "text/plain": [
       "   Sample.Sample_Number  replicate_count\n",
       "0             378076457                3\n",
       "1             387024614                1\n",
       "2             387114711                3"
      ]
     },
     "execution_count": 25,
     "metadata": {},
     "output_type": "execute_result"
    }
   ],
   "source": [
    "dfResultReplicateMax"
   ]
  },
  {
   "cell_type": "code",
   "execution_count": 26,
   "metadata": {},
   "outputs": [
    {
     "data": {
      "text/html": [
       "<div>\n",
       "<style scoped>\n",
       "    .dataframe tbody tr th:only-of-type {\n",
       "        vertical-align: middle;\n",
       "    }\n",
       "\n",
       "    .dataframe tbody tr th {\n",
       "        vertical-align: top;\n",
       "    }\n",
       "\n",
       "    .dataframe thead th {\n",
       "        text-align: right;\n",
       "    }\n",
       "</style>\n",
       "<table border=\"1\" class=\"dataframe\">\n",
       "  <thead>\n",
       "    <tr style=\"text-align: right;\">\n",
       "      <th></th>\n",
       "      <th>Type</th>\n",
       "      <th>Sample ID</th>\n",
       "      <th>Result.Entry</th>\n",
       "      <th>Sample.Sample_Number</th>\n",
       "      <th>analysis</th>\n",
       "      <th>replicate_count</th>\n",
       "      <th>Test.Test_Number</th>\n",
       "    </tr>\n",
       "  </thead>\n",
       "  <tbody>\n",
       "    <tr>\n",
       "      <th>0</th>\n",
       "      <td>RD</td>\n",
       "      <td>378076457 (009)</td>\n",
       "      <td>686</td>\n",
       "      <td>378076457</td>\n",
       "      <td>SODIUM-ISE</td>\n",
       "      <td>1</td>\n",
       "      <td>631112923</td>\n",
       "    </tr>\n",
       "    <tr>\n",
       "      <th>1</th>\n",
       "      <td>RD</td>\n",
       "      <td>378076457 (009)</td>\n",
       "      <td>686</td>\n",
       "      <td>378076457</td>\n",
       "      <td>SODIUM-ISE</td>\n",
       "      <td>2</td>\n",
       "      <td>631112924</td>\n",
       "    </tr>\n",
       "    <tr>\n",
       "      <th>2</th>\n",
       "      <td>RD</td>\n",
       "      <td>378076457 (009)</td>\n",
       "      <td>686</td>\n",
       "      <td>378076457</td>\n",
       "      <td>SODIUM-ISE</td>\n",
       "      <td>3</td>\n",
       "      <td>631112925</td>\n",
       "    </tr>\n",
       "    <tr>\n",
       "      <th>3</th>\n",
       "      <td>RD</td>\n",
       "      <td>378076457 (010)</td>\n",
       "      <td>316</td>\n",
       "      <td>378076457</td>\n",
       "      <td>SODIUM-ISE</td>\n",
       "      <td>1</td>\n",
       "      <td>631112923</td>\n",
       "    </tr>\n",
       "    <tr>\n",
       "      <th>4</th>\n",
       "      <td>RD</td>\n",
       "      <td>378076457 (010)</td>\n",
       "      <td>316</td>\n",
       "      <td>378076457</td>\n",
       "      <td>SODIUM-ISE</td>\n",
       "      <td>2</td>\n",
       "      <td>631112924</td>\n",
       "    </tr>\n",
       "    <tr>\n",
       "      <th>5</th>\n",
       "      <td>RD</td>\n",
       "      <td>378076457 (010)</td>\n",
       "      <td>316</td>\n",
       "      <td>378076457</td>\n",
       "      <td>SODIUM-ISE</td>\n",
       "      <td>3</td>\n",
       "      <td>631112925</td>\n",
       "    </tr>\n",
       "    <tr>\n",
       "      <th>6</th>\n",
       "      <td>RD</td>\n",
       "      <td>387024614 (001)</td>\n",
       "      <td>317</td>\n",
       "      <td>387024614</td>\n",
       "      <td>SODIUM-ISE</td>\n",
       "      <td>1</td>\n",
       "      <td>645525470</td>\n",
       "    </tr>\n",
       "    <tr>\n",
       "      <th>7</th>\n",
       "      <td>RD</td>\n",
       "      <td>387114711 (001)</td>\n",
       "      <td>685</td>\n",
       "      <td>387114711</td>\n",
       "      <td>SODIUM-ISE</td>\n",
       "      <td>2</td>\n",
       "      <td>645741553</td>\n",
       "    </tr>\n",
       "    <tr>\n",
       "      <th>8</th>\n",
       "      <td>RD</td>\n",
       "      <td>387114711 (001)</td>\n",
       "      <td>685</td>\n",
       "      <td>387114711</td>\n",
       "      <td>SODIUM-ISE</td>\n",
       "      <td>3</td>\n",
       "      <td>645741556</td>\n",
       "    </tr>\n",
       "    <tr>\n",
       "      <th>9</th>\n",
       "      <td>RD</td>\n",
       "      <td>387114711 (001)</td>\n",
       "      <td>685</td>\n",
       "      <td>387114711</td>\n",
       "      <td>SODIUM-ISE</td>\n",
       "      <td>1</td>\n",
       "      <td>645736074</td>\n",
       "    </tr>\n",
       "  </tbody>\n",
       "</table>\n",
       "</div>"
      ],
      "text/plain": [
       "  Type        Sample ID Result.Entry  Sample.Sample_Number    analysis  \\\n",
       "0   RD  378076457 (009)          686             378076457  SODIUM-ISE   \n",
       "1   RD  378076457 (009)          686             378076457  SODIUM-ISE   \n",
       "2   RD  378076457 (009)          686             378076457  SODIUM-ISE   \n",
       "3   RD  378076457 (010)          316             378076457  SODIUM-ISE   \n",
       "4   RD  378076457 (010)          316             378076457  SODIUM-ISE   \n",
       "5   RD  378076457 (010)          316             378076457  SODIUM-ISE   \n",
       "6   RD  387024614 (001)          317             387024614  SODIUM-ISE   \n",
       "7   RD  387114711 (001)          685             387114711  SODIUM-ISE   \n",
       "8   RD  387114711 (001)          685             387114711  SODIUM-ISE   \n",
       "9   RD  387114711 (001)          685             387114711  SODIUM-ISE   \n",
       "\n",
       "   replicate_count  Test.Test_Number  \n",
       "0                1         631112923  \n",
       "1                2         631112924  \n",
       "2                3         631112925  \n",
       "3                1         631112923  \n",
       "4                2         631112924  \n",
       "5                3         631112925  \n",
       "6                1         645525470  \n",
       "7                2         645741553  \n",
       "8                3         645741556  \n",
       "9                1         645736074  "
      ]
     },
     "execution_count": 26,
     "metadata": {},
     "output_type": "execute_result"
    }
   ],
   "source": [
    "dfResult"
   ]
  },
  {
   "cell_type": "code",
   "execution_count": 19,
   "metadata": {},
   "outputs": [],
   "source": [
    "dfResultFinal = dfResult.merge(dfResultReplicateMax, how = 'inner', on = ['Sample.Sample_Number','replicate_count'])"
   ]
  },
  {
   "cell_type": "code",
   "execution_count": 20,
   "metadata": {},
   "outputs": [],
   "source": [
    "dfResultFinal['Result.Name']='Inst. Read-out'"
   ]
  },
  {
   "cell_type": "code",
   "execution_count": 21,
   "metadata": {},
   "outputs": [],
   "source": [
    "dfResultFinal['Result.Entered_By']='IMPORTER'"
   ]
  },
  {
   "cell_type": "code",
   "execution_count": 22,
   "metadata": {},
   "outputs": [],
   "source": [
    "dfResultFinal = dfResultFinal[colsOrder]"
   ]
  },
  {
   "cell_type": "code",
   "execution_count": 23,
   "metadata": {},
   "outputs": [
    {
     "data": {
      "text/html": [
       "<div>\n",
       "<style scoped>\n",
       "    .dataframe tbody tr th:only-of-type {\n",
       "        vertical-align: middle;\n",
       "    }\n",
       "\n",
       "    .dataframe tbody tr th {\n",
       "        vertical-align: top;\n",
       "    }\n",
       "\n",
       "    .dataframe thead th {\n",
       "        text-align: right;\n",
       "    }\n",
       "</style>\n",
       "<table border=\"1\" class=\"dataframe\">\n",
       "  <thead>\n",
       "    <tr style=\"text-align: right;\">\n",
       "      <th></th>\n",
       "      <th>Sample.Sample_Number</th>\n",
       "      <th>Test.Test_Number</th>\n",
       "      <th>Result.Name</th>\n",
       "      <th>Result.Entry</th>\n",
       "      <th>Result.Entered_By</th>\n",
       "    </tr>\n",
       "  </thead>\n",
       "  <tbody>\n",
       "    <tr>\n",
       "      <th>0</th>\n",
       "      <td>378076457</td>\n",
       "      <td>631112925</td>\n",
       "      <td>Inst. Read-out</td>\n",
       "      <td>686</td>\n",
       "      <td>IMPORTER</td>\n",
       "    </tr>\n",
       "    <tr>\n",
       "      <th>1</th>\n",
       "      <td>378076457</td>\n",
       "      <td>631112925</td>\n",
       "      <td>Inst. Read-out</td>\n",
       "      <td>316</td>\n",
       "      <td>IMPORTER</td>\n",
       "    </tr>\n",
       "    <tr>\n",
       "      <th>2</th>\n",
       "      <td>387024614</td>\n",
       "      <td>645525470</td>\n",
       "      <td>Inst. Read-out</td>\n",
       "      <td>317</td>\n",
       "      <td>IMPORTER</td>\n",
       "    </tr>\n",
       "    <tr>\n",
       "      <th>3</th>\n",
       "      <td>387114711</td>\n",
       "      <td>645741556</td>\n",
       "      <td>Inst. Read-out</td>\n",
       "      <td>685</td>\n",
       "      <td>IMPORTER</td>\n",
       "    </tr>\n",
       "  </tbody>\n",
       "</table>\n",
       "</div>"
      ],
      "text/plain": [
       "   Sample.Sample_Number  Test.Test_Number     Result.Name Result.Entry  \\\n",
       "0             378076457         631112925  Inst. Read-out          686   \n",
       "1             378076457         631112925  Inst. Read-out          316   \n",
       "2             387024614         645525470  Inst. Read-out          317   \n",
       "3             387114711         645741556  Inst. Read-out          685   \n",
       "\n",
       "  Result.Entered_By  \n",
       "0          IMPORTER  \n",
       "1          IMPORTER  \n",
       "2          IMPORTER  \n",
       "3          IMPORTER  "
      ]
     },
     "execution_count": 23,
     "metadata": {},
     "output_type": "execute_result"
    }
   ],
   "source": [
    "dfResultFinal"
   ]
  },
  {
   "cell_type": "code",
   "execution_count": 1,
   "metadata": {},
   "outputs": [
    {
     "ename": "NameError",
     "evalue": "name 'writeFile' is not defined",
     "output_type": "error",
     "traceback": [
      "\u001b[1;31m---------------------------------------------------------------------------\u001b[0m",
      "\u001b[1;31mNameError\u001b[0m                                 Traceback (most recent call last)",
      "\u001b[1;32m<ipython-input-1-b72b623b67b1>\u001b[0m in \u001b[0;36m<module>\u001b[1;34m()\u001b[0m\n\u001b[1;32m----> 1\u001b[1;33m \u001b[0mwriteFile\u001b[0m\u001b[1;33m(\u001b[0m\u001b[0mdfResultFinal\u001b[0m\u001b[1;33m,\u001b[0m\u001b[0mlab\u001b[0m\u001b[1;33m,\u001b[0m\u001b[0minst\u001b[0m\u001b[1;33m,\u001b[0m\u001b[0mpath\u001b[0m\u001b[1;33m,\u001b[0m\u001b[0mimportDest\u001b[0m\u001b[1;33m,\u001b[0m\u001b[0mdatapath\u001b[0m\u001b[1;33m,\u001b[0m\u001b[0mfname\u001b[0m\u001b[1;33m)\u001b[0m\u001b[1;33m\u001b[0m\u001b[0m\n\u001b[0m",
      "\u001b[1;31mNameError\u001b[0m: name 'writeFile' is not defined"
     ]
    }
   ],
   "source": [
    "writeFile(dfResultFinal,lab,inst,path,importDest,datapath,fname)"
   ]
  },
  {
   "cell_type": "code",
   "execution_count": null,
   "metadata": {},
   "outputs": [],
   "source": []
  }
 ],
 "metadata": {
  "kernelspec": {
   "display_name": "Python 3",
   "language": "python",
   "name": "python3"
  },
  "language_info": {
   "codemirror_mode": {
    "name": "ipython",
    "version": 3
   },
   "file_extension": ".py",
   "mimetype": "text/x-python",
   "name": "python",
   "nbconvert_exporter": "python",
   "pygments_lexer": "ipython3",
   "version": "3.6.6"
  }
 },
 "nbformat": 4,
 "nbformat_minor": 2
}
