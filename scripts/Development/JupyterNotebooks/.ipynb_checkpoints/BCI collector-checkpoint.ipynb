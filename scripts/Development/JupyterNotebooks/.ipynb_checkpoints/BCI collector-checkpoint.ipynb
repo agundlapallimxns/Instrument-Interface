{
 "cells": [
  {
   "cell_type": "code",
   "execution_count": null,
   "metadata": {},
   "outputs": [],
   "source": [
    "from ftplib import FTP"
   ]
  },
  {
   "cell_type": "code",
   "execution_count": 21,
   "metadata": {},
   "outputs": [
    {
     "name": "stdout",
     "output_type": "stream",
     "text": [
      "File List:\n",
      "drwx------   3 user group            0 Mar 28 16:08 download\n",
      "drwx------   3 user group            0 Mar 28 16:25 upload\n",
      "None\n"
     ]
    },
    {
     "data": {
      "text/plain": [
       "'226 Closing data connection.'"
      ]
     },
     "execution_count": 21,
     "metadata": {},
     "output_type": "execute_result"
    }
   ],
   "source": [
    "ftp = ftplib.FTP('172.16.20.22', 'bcinet', 'bcinet')\n",
    "print (\"File List:\")\n",
    "files = ftp.dir()\n",
    "print (files)\n",
    "ftp.cwd(\"/download\")\n",
    "files1=ftp.dir()\n",
    "ftp.retrlines('LIST') "
   ]
  },
  {
   "cell_type": "code",
   "execution_count": 19,
   "metadata": {},
   "outputs": [
    {
     "name": "stdout",
     "output_type": "stream",
     "text": [
      "drwx------   3 user group            0 Mar 28 16:25 download\n",
      "drwx------   3 user group            0 Mar 28 16:22 upload\n"
     ]
    },
    {
     "data": {
      "text/plain": [
       "'226 Closing data connection.'"
      ]
     },
     "execution_count": 19,
     "metadata": {},
     "output_type": "execute_result"
    }
   ],
   "source": [
    "ftp = ftplib.FTP('172.16.190.22', 'bcinet', 'bcinet')\n",
    "ftp.retrlines('LIST') "
   ]
  },
  {
   "cell_type": "code",
   "execution_count": 9,
   "metadata": {},
   "outputs": [
    {
     "name": "stdout",
     "output_type": "stream",
     "text": [
      "/\n"
     ]
    }
   ],
   "source": [
    "ftp = ftplib.FTP('172.16.190.22', 'bcinet', 'bcinet')\n",
    "wdir = ftp.pwd()\n",
    "print(wdir)"
   ]
  },
  {
   "cell_type": "code",
   "execution_count": null,
   "metadata": {},
   "outputs": [],
   "source": []
  }
 ],
 "metadata": {
  "kernelspec": {
   "display_name": "Python 3",
   "language": "python",
   "name": "python3"
  },
  "language_info": {
   "codemirror_mode": {
    "name": "ipython",
    "version": 3
   },
   "file_extension": ".py",
   "mimetype": "text/x-python",
   "name": "python",
   "nbconvert_exporter": "python",
   "pygments_lexer": "ipython3",
   "version": "3.6.6"
  }
 },
 "nbformat": 4,
 "nbformat_minor": 2
}
