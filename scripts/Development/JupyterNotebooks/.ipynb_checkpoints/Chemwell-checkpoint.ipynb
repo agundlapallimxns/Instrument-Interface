{
 "cells": [
  {
   "cell_type": "code",
   "execution_count": 90,
   "metadata": {},
   "outputs": [],
   "source": [
    "# Import Functions\n",
    "import pandas as pd\n",
    "import os\n",
    "import time\n",
    "import csv\n",
    "import sqlalchemy as sql\n",
    "\n",
    "# Default Parameters setting\n",
    "path='//mxns.loc//shares//NA-Instruments//Prod//Crete//Import//Chemwell//RawFiles//'\n",
    "pathrawfiles='//mxns.loc//shares//NA-Instruments//Prod//Crete//Import//Chemwell//RawFiles//'\n",
    "archivedDestination='//mxns.loc//shares//NA-Instruments//Prod//Crete//Import//Chemwell//Archived//'\n",
    "importDest='//mxns.loc//shares//NA-Instruments//Prod//Crete//impf//'\n",
    "colsOrder=['Sample.Sample_Number', 'Test.Analysis','Result.Name', 'Result.Entry', 'Result.Entered_By']\n",
    "lab='CRE'\n",
    "inst='Chemwell'"
   ]
  },
  {
   "cell_type": "code",
   "execution_count": 91,
   "metadata": {},
   "outputs": [],
   "source": [
    "# get Data from DB\n",
    "def getDataFromDB(sampleNumbersList):\n",
    "    dburl = 'oracle://'+dbUser+':'+dbPassword+'@'+dbHost+':'+dbPort+'/'+dbName\n",
    "    engine=sql.create_engine(dburl)\n",
    "    resultdf=pd.DataFrame()\n",
    "    sampleNumbrStr=(', '.join(\"'\" + item + \"'\" for item in sampleNumbersList))\n",
    "    queryText=\"SELECT tsttbl.SAMPLE_NUMBER as Sample, tsttbl.TEST_NUMBER, max(tsttbl.REPLICATE_COUNT) AS REPLICATE_COUNT FROM ( SELECT SAMPLE_NUMBER , TEST_NUMBER, REPLICATE_COUNT FROM TEST\"\n",
    "    queryText=queryText+\" WHERE SAMPLE_NUMBER IN (\"+sampleNumbrStr+\")AND ANALYSIS = 'ALLERGLIAD' ) tsttbl GROUP BY (tsttbl.SAMPLE_NUMBER, tsttbl.TEST_NUMBER)\"\n",
    "    conn = engine.connect()\n",
    "    resultdf = pd.read_sql(queryText, engine)\n",
    "    conn.close()\n",
    "    resultdf=resultdf.drop(['replicate_count'], axis=1)\n",
    "    return resultdf"
   ]
  },
  {
   "cell_type": "code",
   "execution_count": 92,
   "metadata": {},
   "outputs": [
    {
     "name": "stdout",
     "output_type": "stream",
     "text": [
      "gliadin 190117-1 IT Trial.xls\n",
      "gliadin 190117-1 IT Trial_raw.xls\n",
      "gliadin117-1 IT.xls\n"
     ]
    }
   ],
   "source": [
    "# Get the List of files\n",
    "files = os.listdir(pathrawfiles)\n",
    "# Iterate through List of files\n",
    "for name in files:\n",
    "    print(name)"
   ]
  },
  {
   "cell_type": "code",
   "execution_count": 93,
   "metadata": {},
   "outputs": [
    {
     "name": "stdout",
     "output_type": "stream",
     "text": [
      "*** No CODEPAGE record, no encoding_override: will use 'ascii'\n"
     ]
    },
    {
     "name": "stderr",
     "output_type": "stream",
     "text": [
      "c:\\users\\agundlapalli\\appdata\\local\\programs\\python\\python36\\lib\\site-packages\\ipykernel_launcher.py:7: SettingWithCopyWarning: \n",
      "A value is trying to be set on a copy of a slice from a DataFrame.\n",
      "Try using .loc[row_indexer,col_indexer] = value instead\n",
      "\n",
      "See the caveats in the documentation: http://pandas.pydata.org/pandas-docs/stable/indexing.html#indexing-view-versus-copy\n",
      "  import sys\n"
     ]
    }
   ],
   "source": [
    "datapathxl = pathrawfiles + str(name)\n",
    "dataxl = pd.read_excel(datapathxl)   # read the Excel file from the instrument\n",
    "dataxl1 = dataxl.drop_duplicates(subset='Sample', keep='first')\n",
    "dataxl11 = dataxl1[dataxl1['Sample'].map(len) == 11] # Subset only the valid sample numbers\n",
    "collist = ['Sample', 'Abs', 'Conc']   # define the required columns for the import files\n",
    "dataxl111 = dataxl11[collist] \t\t\t# Subset the required columns for the import files\n",
    "dataxl111['Sample'] = dataxl111['Sample'].str[2:] # format the sample numbers\n",
    "dataxl111 = pd.melt(dataxl111, id_vars=['Sample'], value_vars=['Abs', 'Conc']) # Pivot the samples numbers"
   ]
  },
  {
   "cell_type": "code",
   "execution_count": 94,
   "metadata": {},
   "outputs": [],
   "source": [
    "\n",
    "# formatting the dataframe to get in respect to the Import Functionality\n",
    "sampleNumbersList=list(dataxl111['Sample'].unique())"
   ]
  },
  {
   "cell_type": "code",
   "execution_count": 95,
   "metadata": {},
   "outputs": [],
   "source": [
    "testNumberdf=getDataFromDB(sampleNumbersList)"
   ]
  },
  {
   "cell_type": "code",
   "execution_count": 96,
   "metadata": {},
   "outputs": [],
   "source": [
    "testNumberdf = testNumberdf.rename(index=str, columns={'sample': 'Sample'})"
   ]
  },
  {
   "cell_type": "code",
   "execution_count": 97,
   "metadata": {},
   "outputs": [],
   "source": [
    "dataxl111=dataxl111.astype({\"Sample\": int})"
   ]
  },
  {
   "cell_type": "code",
   "execution_count": 98,
   "metadata": {},
   "outputs": [],
   "source": [
    "dfResult=pd.merge(dataxl111,testNumberdf,on='Sample')"
   ]
  },
  {
   "cell_type": "code",
   "execution_count": 99,
   "metadata": {},
   "outputs": [],
   "source": [
    "# formatting the dataframe to get in respect to the Import Functionality\n",
    "sampleNumbersList=list(dataxl111['Sample'].unique())\n",
    "testNumberdf=getDataFromDB(sampleNumbersList)\n",
    "testNumberdf = testNumberdf.rename(index=str, columns={'sample': 'Sample'})\n",
    "dataxl111=dataxl111.astype({\"Sample\": int})\n",
    "dfResult=pd.merge(dataxl111,testNumberdf,on='Sample')\n",
    "dfResult = dfResult.replace('Abs', 'Absorbance')\n",
    "dfResult = dfResult.replace('Conc', 'Gliadin (Component of Gluten)')\n",
    "dfResult = dfResult.rename(index=str, columns={'Sample': 'Sample.Sample_Number', 'variable': 'Result.Name','value': 'Result.Entry','test_number':'Test.Test_Number'})\n",
    "#dfResult['Test.Analysis'] = 'ALLERGLIAD'\n",
    "dfResult['Result.Entered_By'] = 'IMPORTER'"
   ]
  },
  {
   "cell_type": "code",
   "execution_count": 100,
   "metadata": {},
   "outputs": [],
   "source": [
    "dfResult = dfResult.sort_values(by=['Sample.Sample_Number'])\n",
    "dfResult = dfResult.astype({\"Sample.Sample_Number\": int})"
   ]
  },
  {
   "cell_type": "code",
   "execution_count": 101,
   "metadata": {},
   "outputs": [],
   "source": [
    "timestr = time.strftime(\"%Y%m%d%H%M%S\")\n",
    "FileName = importDest + lab+'_'+inst+'_' + timestr + '.csv'\n",
    "dfResult.to_csv(FileName, index=False, encoding=\"utf-8\",quotechar='\"',quoting=csv.QUOTE_NONNUMERIC) # write  out the file to be imported\n",
    "destination = archivedDestination + name[:-4] + '_raw.ARK' # Backup the processed file\n",
    "os.rename(datapathxl, destination)\n",
    "time.sleep(2)"
   ]
  },
  {
   "cell_type": "code",
   "execution_count": null,
   "metadata": {},
   "outputs": [],
   "source": []
  }
 ],
 "metadata": {
  "kernelspec": {
   "display_name": "Python 3",
   "language": "python",
   "name": "python3"
  },
  "language_info": {
   "codemirror_mode": {
    "name": "ipython",
    "version": 3
   },
   "file_extension": ".py",
   "mimetype": "text/x-python",
   "name": "python",
   "nbconvert_exporter": "python",
   "pygments_lexer": "ipython3",
   "version": "3.6.6"
  }
 },
 "nbformat": 4,
 "nbformat_minor": 2
}
