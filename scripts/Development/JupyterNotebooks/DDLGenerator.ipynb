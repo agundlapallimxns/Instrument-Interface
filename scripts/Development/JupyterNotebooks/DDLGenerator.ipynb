{
 "cells": [
  {
   "cell_type": "code",
   "execution_count": 41,
   "metadata": {},
   "outputs": [],
   "source": [
    "import pandas as pd\n",
    "import sqlalchemy as sql"
   ]
  },
  {
   "cell_type": "code",
   "execution_count": 42,
   "metadata": {},
   "outputs": [],
   "source": [
    "def getDDLFromDB(dbHost,dbPort,dbName,dbUser, dbPassword,dbtable):\n",
    "    dburl = 'oracle://' + dbUser + ':' + dbPassword + '@' + dbHost + ':' + dbPort + '/' + dbName\n",
    "    print(dburl)\n",
    "    engine = sql.create_engine(dburl)\n",
    "    conn = engine.connect()\n",
    "    queryText=\"select DBMS_METADATA.GET_DDL('TABLE', '\"+dbtable+\"')as \"+dbtable+\" from dual\"\n",
    "    df = pd.read_sql(queryText, engine)\n",
    "    return df.T"
   ]
  },
  {
   "cell_type": "code",
   "execution_count": null,
   "metadata": {},
   "outputs": [],
   "source": [
    "def generateReportFiles(df):\n",
    "    writer = pd.ExcelWriter('C:\\\\Users\\\\agundlapalli\\\\PycharmProjects\\\\JupyterNotebooks\\\\result.xlsx', engine='xlsxwriter')\n",
    "    df.to_excel(writer)\n",
    "    writer.save()"
   ]
  },
  {
   "cell_type": "code",
   "execution_count": null,
   "metadata": {},
   "outputs": [],
   "source": [
    "#Data Base settings \n",
    "dbHost=''\n",
    "dbPort=''\n",
    "dbName=''\n",
    "dbUser=''\n",
    "dbPassword=''"
   ]
  },
  {
   "cell_type": "code",
   "execution_count": null,
   "metadata": {},
   "outputs": [],
   "source": [
    "#tableList\n",
    "tblList=[]"
   ]
  },
  {
   "cell_type": "code",
   "execution_count": null,
   "metadata": {},
   "outputs": [],
   "source": [
    "dfResult=pd.DataFrame()\n",
    "for each in tblList:\n",
    "    t=getDDLFromDB(dbHost,dbPort,dbName,dbUser, dbPassword,each)\n",
    "    dfResult=dfResult.append(t)"
   ]
  },
  {
   "cell_type": "code",
   "execution_count": null,
   "metadata": {},
   "outputs": [],
   "source": [
    "generateReportFiles(dfResult)"
   ]
  }
 ],
 "metadata": {
  "kernelspec": {
   "display_name": "Python 3",
   "language": "python",
   "name": "python3"
  },
  "language_info": {
   "codemirror_mode": {
    "name": "ipython",
    "version": 3
   },
   "file_extension": ".py",
   "mimetype": "text/x-python",
   "name": "python",
   "nbconvert_exporter": "python",
   "pygments_lexer": "ipython3",
   "version": "3.6.6"
  }
 },
 "nbformat": 4,
 "nbformat_minor": 2
}
